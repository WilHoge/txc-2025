{
 "cells": [
  {
   "cell_type": "markdown",
   "metadata": {
    "id": "ce201210-1c88-482e-99e5-87940a49175d"
   },
   "source": [
    "# Preparation"
   ]
  },
  {
   "cell_type": "markdown",
   "metadata": {
    "id": "90b977eb-3cee-4ad9-8891-89be0c623307"
   },
   "source": [
    "## Set user name identifier\n",
    "\n",
    "In order to seperate your collections from other users you have to select a unique identifier for your collections. This will be added to collection names.\n",
    "A good identifier could be your three letter acronym for your name and the day of your birthday, so for example **wjh17**. Replace `<your identifier>` with your chosen identifier and execute that cell. "
   ]
  },
  {
   "cell_type": "code",
   "execution_count": null,
   "metadata": {
    "id": "660d33db-a0e3-46f8-908b-4a29d541a950"
   },
   "outputs": [],
   "source": [
    "user_identifier = \"<your identifier>\""
   ]
  },
  {
   "cell_type": "markdown",
   "metadata": {
    "id": "a28f16f3-46a0-47ca-b6a3-2f7c09a8847e"
   },
   "source": [
    "## Project token\n",
    "\n",
    "Select the (empty) cell below and insert the project token (3-dot menu above). Execute that cell afterwards.\n"
   ]
  },
  {
   "cell_type": "code",
   "execution_count": null,
   "metadata": {
    "id": "05a51ef8-11ab-4f3c-bad1-56b33dca847a"
   },
   "outputs": [],
   "source": []
  },
  {
   "cell_type": "markdown",
   "metadata": {
    "id": "28603f8f-f14b-4759-a120-fcdee4119db3"
   },
   "source": [
    "## Milvus connection\n",
    "\n",
    "Copy the Milvus connectivity info (JSON format) and replace `<connection info in JSON format>` with he copied info in the next cell. Execute that cell afterwards."
   ]
  },
  {
   "cell_type": "code",
   "execution_count": null,
   "metadata": {
    "id": "32b65d37-6f55-47b0-a833-2f71c3d7596a"
   },
   "outputs": [],
   "source": [
    "#connection=<connection info in JSON format>\n",
    "\n",
    "# The connection information has been already provided. Please don't change the line below and execute the cell\n",
    "connection={\"connection_name\":\"Milvus\",\"properties\":{\"connection\":[{\"name\":\"host\",\"value\":\"30f4a688-d22e-46ff-a1ff-b866c3e4d9d7.cvbhm81d0dmnvl5rjek0.lakehouse.appdomain.cloud\"},{\"name\":\"port\",\"value\":\"30355\"},{\"name\":\"database\",\"value\":\"default\"},{\"name\":\"service_id\",\"value\":\"milvus40\"},{\"name\":\"ssl\",\"value\":\"true\"},{\"name\":\"ssl_certificate\",\"value\":\"\"},{\"name\":\"engine_type\",\"value\":\"milvus\"}]}}"
   ]
  },
  {
   "cell_type": "markdown",
   "metadata": {
    "id": "7fe6bd27-afaf-40ba-8f70-48b87c06d84a"
   },
   "source": [
    "## API key\n",
    "\n",
    "Create an API key in IAM, copy it and replace `<api_key>` with the copied API key in the cell below. Execute the cell below afterwards."
   ]
  },
  {
   "cell_type": "code",
   "execution_count": null,
   "metadata": {
    "id": "87f09ae5-63a3-406b-b097-5f0b6365f8af"
   },
   "outputs": [],
   "source": [
    "api_key = \"<api_key>\"\n",
    "\n",
    "ibm_cloud_url = \"https://us-south.ml.cloud.ibm.com\"\n",
    "host = connection[\"properties\"][\"connection\"][0][\"value\"]\n",
    "port = connection[\"properties\"][\"connection\"][1][\"value\"]\n",
    "\n",
    "if user_identifier == \"<your identifier>\":\n",
    "    print(\"please go back and set your user_identifier to continue\")\n",
    "    collection_name = \"\"\n",
    "else:\n",
    "    collection_name = \"wiki_articles\" + \"_\" + user_identifier\n",
    "    print(f\"you will use collection {collection_name}\")"
   ]
  },
  {
   "cell_type": "markdown",
   "metadata": {
    "id": "78af89c0-96ac-47e6-8e08-2ee3bb4f4b01"
   },
   "source": [
    "# Prepare content \n",
    "\n",
    "## Read data from Wikipedia"
   ]
  },
  {
   "cell_type": "code",
   "execution_count": null,
   "metadata": {
    "id": "fb527e08-75d1-4cdf-b99c-d5fddc927231"
   },
   "outputs": [],
   "source": [
    "!pip install wikipedia | tail -n 1"
   ]
  },
  {
   "cell_type": "code",
   "execution_count": null,
   "metadata": {
    "id": "1e100408-eaaf-4c2b-affe-6345172ea3fb"
   },
   "outputs": [],
   "source": [
    "import wikipedia\n",
    "\n",
    "# fetch wikipedia articles\n",
    "articles = [\n",
    "    {'title': 'Climate', 'pageid': 5999, 'rights': 'climate'},\n",
    "    {'title': 'Climate change', 'pageid':  5042951, 'rights': 'climate'},\n",
    "    {'title': 'Climate change mitigation', 'pageid':  2119179, 'rights': 'climate'},\n",
    "    {'title': 'Climate change adaptation', 'pageid':  4607152, 'rights': 'climate'},\n",
    "    {'title': 'Economics', 'pageid':  9223, 'rights': 'economics'},\n",
    "    {'title': 'Keynesian economics', 'pageid':  17326, 'rights': 'economics'},\n",
    "    {'title': 'Behavioral economics', 'pageid':  177698, 'rights': 'economics'},\n",
    "    {'title': 'Agricultural economics', 'pageid':  733141, 'rights': 'economics'},\n",
    "    {'title': 'Labour economics', 'pageid':  18178, 'rights': 'economics'},\n",
    "]\n",
    "\n",
    "for article in articles:\n",
    "    title = article['title']\n",
    "    pageid = article['pageid']\n",
    "    \n",
    "    if pageid:\n",
    "        wiki_entry = wikipedia.page(pageid=pageid)\n",
    "    else:\n",
    "        wiki_entry = wikipedia.page(title)\n",
    "\n",
    "    article['content'] = wiki_entry.content\n",
    "    print(f\"Successfully fetched {title}\")\n",
    "\n",
    "print(f\"Successfully fetched {len(articles)} articles \")"
   ]
  },
  {
   "cell_type": "markdown",
   "metadata": {
    "id": "5fc3a44a-8321-4939-b71a-65f0ffd62a1b"
   },
   "source": [
    "## Split data into chunks"
   ]
  },
  {
   "cell_type": "code",
   "execution_count": null,
   "metadata": {
    "id": "4863213a-66b3-4bca-888e-99ccc3675903"
   },
   "outputs": [],
   "source": [
    "def split_into_chunks(text, chunk_size):\n",
    "    words = text.split()\n",
    "    return [' '.join(words[i:i + chunk_size]) for i in range(0, len(words), chunk_size)]\n",
    "    \n",
    "def chunk_articles(articles, chunk_size):\n",
    "\n",
    "    chunks = []\n",
    "    i=1\n",
    "\n",
    "    for article in articles:\n",
    "        title = article['title']\n",
    "        content = article['content']\n",
    "        rights = article['rights']\n",
    "    \n",
    "        split_articles = split_into_chunks(content, chunk_size)\n",
    "\n",
    "        for article_chunk in split_articles:\n",
    "\n",
    "            escaped_chunk = article_chunk.replace(\"'\", \"''\").replace(\"%\", \"%%\")\n",
    "            chunks.append({'id': i, 'chunk': escaped_chunk, 'title': title, 'rights': rights})\n",
    "            i=i+1\n",
    "\n",
    "    return chunks\n",
    "    \n",
    "chunks = chunk_articles(articles, 255)\n",
    "\n",
    "print(f\"Created {len(chunks)} chunks. Showing some examples:\")\n",
    "for i in range(3):\n",
    "    print(f\"\\nChunk #{i}:\")\n",
    "    print(f\"  title: {chunks[i]['title']}\")\n",
    "    print(f\"  chunk: {chunks[i]['chunk'][0:80]}...\")\n",
    "    print(f\"  rights: {chunks[i]['rights']}\")"
   ]
  },
  {
   "cell_type": "markdown",
   "metadata": {
    "id": "a1b1c669-257e-45fe-b3a8-7417345bfa33"
   },
   "source": [
    "## Load vector embeddings from watsonx.ai"
   ]
  },
  {
   "cell_type": "code",
   "execution_count": null,
   "metadata": {
    "id": "0feb797d-6393-4f84-b0e7-41fe95b7f238"
   },
   "outputs": [],
   "source": [
    "from ibm_watsonx_ai import Credentials\n",
    "from ibm_watsonx_ai.foundation_models import Embeddings\n",
    "from ibm_watsonx_ai.metanames import EmbedTextParamsMetaNames as EmbedParams\n",
    "from ibm_watsonx_ai.foundation_models.utils.enums import EmbeddingTypes\n",
    "\n",
    "embed_params = {\n",
    "     EmbedParams.TRUNCATE_INPUT_TOKENS: 3,\n",
    "     EmbedParams.RETURN_OPTIONS: {\n",
    "     'input_text': True\n",
    "     }\n",
    " }\n",
    "\n",
    "embedding = Embeddings(\n",
    "     model_id=EmbeddingTypes.IBM_SLATE_30M_ENG,\n",
    "     params=embed_params,\n",
    "     credentials=Credentials(\n",
    "         api_key = api_key,\n",
    "         url = ibm_cloud_url),\n",
    "     project_id=project.project_context.projectID\n",
    "     )"
   ]
  },
  {
   "cell_type": "code",
   "execution_count": null,
   "metadata": {
    "id": "055f8a1b-7aa2-439d-ac04-58facda6b327"
   },
   "outputs": [],
   "source": [
    "# extract text + titles\n",
    "article_chunks = [item['chunk'] for item in chunks]\n",
    "article_titles = [item['title'] for item in chunks]\n",
    "article_rights = [item['rights'] for item in chunks]\n",
    "\n",
    "# create vector embeddings for chunks\n",
    "article_vectors = embedding.embed_documents(texts=article_chunks)"
   ]
  },
  {
   "cell_type": "markdown",
   "metadata": {
    "id": "1ffc642b-69c5-4d9d-a161-ba826ca50ea8"
   },
   "source": [
    "# Connect to Milvus"
   ]
  },
  {
   "cell_type": "code",
   "execution_count": null,
   "metadata": {
    "id": "dd5fc94a-1bb2-469e-ab00-727908461189"
   },
   "outputs": [],
   "source": [
    "from pymilvus import(\n",
    "    IndexType,\n",
    "    Status,\n",
    "    connections,\n",
    "    FieldSchema,\n",
    "    DataType,\n",
    "    Collection,\n",
    "    CollectionSchema,\n",
    "    utility\n",
    ")\n",
    "\n",
    "connections.connect(\n",
    "                alias = 'default',\n",
    "                host = host,\n",
    "                port = port,\n",
    "                user = \"ibmlhapikey\",\n",
    "                password = api_key,\n",
    "                secure = True)"
   ]
  },
  {
   "attachments": {},
   "cell_type": "markdown",
   "metadata": {
    "id": "0d347d8f-7208-4c93-9d62-391005075e3c"
   },
   "source": [
    "# First variant to implement access rights – filter after query"
   ]
  },
  {
   "cell_type": "markdown",
   "metadata": {
    "id": "30bf6958-2c21-4532-b31a-ac97e025391d"
   },
   "source": [
    "## Define collection with fields and schema"
   ]
  },
  {
   "cell_type": "code",
   "execution_count": null,
   "metadata": {
    "id": "8977c302-7cd4-4cfe-88cc-705a9956d039"
   },
   "outputs": [],
   "source": [
    "# Create collection - define fields + schema\n",
    "\n",
    "fields = [\n",
    "    FieldSchema(name=\"id\", dtype=DataType.INT64, is_primary=True, auto_id=True),    # primary key\n",
    "    FieldSchema(name=\"article_text\", dtype=DataType.VARCHAR, max_length=8000,),     # a chunk of an article text\n",
    "    FieldSchema(name=\"article_title\", dtype=DataType.VARCHAR, max_length=200,),     # the title of the article where the chunk is originated\n",
    "    FieldSchema(name=\"article_rights\", dtype=DataType.VARCHAR, max_length=20,),     # the rights attached to the article\n",
    "    FieldSchema(name=\"vector\", dtype=DataType.FLOAT_VECTOR, dim=384),               # the embedding vector\n",
    "]\n",
    "\n",
    "schema = CollectionSchema(fields, \"wikipedia article collection schema\")\n",
    "\n",
    "wiki_collection = Collection(collection_name, schema)\n",
    "\n",
    "# Create index for Vector data\n",
    "\n",
    "index_params = {\n",
    "        'metric_type':'L2',\n",
    "        'index_type':\"IVF_FLAT\",\n",
    "        'params':{\"nlist\":10}\n",
    "}\n",
    "\n",
    "wiki_collection.create_index(field_name=\"vector\", index_params=index_params)"
   ]
  },
  {
   "cell_type": "code",
   "execution_count": null,
   "metadata": {
    "id": "eaad9002-3037-46f3-af05-d8bb4b0c3e08"
   },
   "outputs": [],
   "source": [
    "# List collections available in Milvus\n",
    "print(\"Collections found in Milvus database: \", utility.list_collections())\n",
    "\n",
    "# Get number of entities in collection. Should be 0 as we have not loaded any data\n",
    "print(\"Number of entities in Collection: \", wiki_collection.num_entities)"
   ]
  },
  {
   "cell_type": "markdown",
   "metadata": {
    "id": "1e7e389d-9dd5-474e-86e5-65676302bf11"
   },
   "source": [
    "## Store data in Milvus"
   ]
  },
  {
   "cell_type": "code",
   "execution_count": null,
   "metadata": {
    "id": "bac311c6-7e57-4882-a20e-a875e8cba4a0"
   },
   "outputs": [],
   "source": [
    "# Prepare data suitable for loading\n",
    "\n",
    "data = [\n",
    "    article_chunks,\n",
    "    article_titles,\n",
    "    article_rights,\n",
    "    article_vectors\n",
    "]\n",
    "\n",
    "# Insert data into collection\n",
    "\n",
    "wiki_collection.insert(data)\n",
    "wiki_collection.flush()  # Ensures data persistence\n",
    "\n",
    "# Load collection to allow queries\n",
    "\n",
    "wiki_collection.load()\n",
    "\n",
    "# Get number of entities in collection. Now we should see entities\n",
    "\n",
    "print(\"Number of entities in Collection: \", wiki_collection.num_entities)"
   ]
  },
  {
   "cell_type": "markdown",
   "metadata": {
    "id": "d748d7b1-0013-4164-9624-506526b37e26"
   },
   "source": [
    "## Create functions to query milvus"
   ]
  },
  {
   "cell_type": "code",
   "execution_count": null,
   "metadata": {
    "id": "6bdf13bd-2944-45c6-be98-26b51aea372e"
   },
   "outputs": [],
   "source": [
    "# Query function for Milvus using just similarity search\n",
    "\n",
    "def query_milvus(query, num_results=3):\n",
    "    \n",
    "    # 1. Vectorize query text for similarity\n",
    "    query_embeddings = embedding.embed_documents(texts=[query])\n",
    "    \n",
    "    # 2. Search Parameters\n",
    "    search_params = {\n",
    "        \"metric_type\": \"L2\", \n",
    "        \"params\": {\"nprobe\": 5}\n",
    "    }\n",
    "\n",
    "    # 3. Search collection\n",
    "    results = wiki_collection.search(\n",
    "        data=query_embeddings, \n",
    "        anns_field=\"vector\", \n",
    "        param=search_params,\n",
    "        limit=num_results,\n",
    "        output_fields=['article_text', 'article_rights']\n",
    "    )\n",
    "    return results"
   ]
  },
  {
   "cell_type": "code",
   "execution_count": null,
   "metadata": {
    "id": "dddb3913-0beb-4fb0-894b-d265024ce75d"
   },
   "outputs": [],
   "source": [
    "# Function to extract relevant chunks from search results\n",
    "# use verbose=True to see details for the chunks\n",
    "\n",
    "def get_relevant_chunks(results, verbose=False):\n",
    "    \n",
    "    relevant_chunks = []\n",
    "    i=0\n",
    "\n",
    "    for res in results[0]:\n",
    "        text = res.entity.get('article_text')\n",
    "        rights = res.entity.get('article_rights')\n",
    "        relevant_chunks.append(text)\n",
    "        if verbose:\n",
    "            print(f\"Chunk #{i}:\")\n",
    "            print(f\"  id: {res.id}\")\n",
    "            print(f\"  distance: {res.distance}\")\n",
    "            print(f\"  chunk: {text[:70]}...\")\n",
    "            print(f\"  righs: {rights}\\n\")\n",
    "            i = i+1\n",
    "\n",
    "    return relevant_chunks"
   ]
  },
  {
   "cell_type": "markdown",
   "metadata": {
    "id": "31626608-c7b1-460e-b975-76459ef242ec"
   },
   "source": [
    "## Run a query against Milvus"
   ]
  },
  {
   "cell_type": "code",
   "execution_count": null,
   "metadata": {
    "id": "b744260b-7471-49d1-be21-f899e0ee0503"
   },
   "outputs": [],
   "source": [
    "# set the number of chunks wanted in the answer\n",
    "num_results = 3\n",
    "\n",
    "# Query against Milvus\n",
    "question_text = 'what are ways to cope with climate change?'\n",
    "\n",
    "# Execute query and receive chunks with details\n",
    "results = query_milvus(question_text, num_results)\n",
    "chunks = get_relevant_chunks(results, True)"
   ]
  },
  {
   "cell_type": "code",
   "execution_count": null,
   "metadata": {
    "id": "4c10fa61-b932-47fa-b70b-d89a40259d4c"
   },
   "outputs": [],
   "source": [
    "# Query function for Milvus using similarity search and offset to skip results\n",
    "\n",
    "def query_milvus(query, num_results=3, num_offset=0):\n",
    "    \n",
    "    # 1. Vectorize query text for similarity\n",
    "    query_embeddings = embedding.embed_documents(texts=[query])\n",
    "    \n",
    "    # 2. Search Parameters\n",
    "    search_params = {\n",
    "        \"metric_type\": \"L2\", \n",
    "        \"params\": {\"nprobe\": 5}\n",
    "    }\n",
    "\n",
    "    # 3. Search collection\n",
    "    results = wiki_collection.search(\n",
    "        data=query_embeddings, \n",
    "        anns_field=\"vector\", \n",
    "        param=search_params,\n",
    "        limit=num_results,\n",
    "        offset=num_offset,                                 # <- skipping results\n",
    "        output_fields=['article_text', 'article_rights']\n",
    "    )\n",
    "    return results"
   ]
  },
  {
   "cell_type": "code",
   "execution_count": null,
   "metadata": {
    "id": "a3da2bed-6379-4e83-b8fd-ba3c96ab6988"
   },
   "outputs": [],
   "source": [
    "# set the number of chunks wanted in the answer\n",
    "num_results = 3\n",
    "\n",
    "# Query against Milvus\n",
    "question_text = 'what are ways to cope with climate change?'\n",
    "\n",
    "# Execute query and receive chunks with details\n",
    "for num_offset in range(0, 3*num_results, num_results):\n",
    "    print(f\"Query Milvus with offset {num_offset}\")\n",
    "    print( \"==========================\\n\")\n",
    "    results = query_milvus(question_text, num_results, num_offset)\n",
    "    chunks = get_relevant_chunks(results, True)"
   ]
  },
  {
   "cell_type": "markdown",
   "metadata": {
    "id": "f331786f-53a3-42d2-8032-f31d6a47b70e"
   },
   "source": [
    "# Second variant to implement access rights - filter access rights in Milvus query"
   ]
  },
  {
   "cell_type": "markdown",
   "metadata": {
    "id": "6ad07439-7853-452b-b504-b05e3f3cc95d"
   },
   "source": [
    "## Create an index for article_rights and load for efficient filtering"
   ]
  },
  {
   "cell_type": "code",
   "execution_count": null,
   "metadata": {
    "id": "760f67fb-7523-46c3-866d-033a76d41bd4"
   },
   "outputs": [],
   "source": [
    "\n",
    "# Create scalar index on article_rights\n",
    "index_params = {\n",
    "    \"index_type\": \"INVERTED\", # or \"AUTOINDEX\"\n",
    "    \"params\": {}\n",
    "}\n",
    "wiki_collection.create_index(field_name=\"article_rights\", index_params=index_params)\n",
    "\n",
    "# Load collection with filtering enabled. With this setting, Milvus combines the scalar index with the vector index\n",
    "wiki_collection.load(_filterable=True)"
   ]
  },
  {
   "cell_type": "markdown",
   "metadata": {
    "id": "2e5000ca-78d8-4050-99fc-985ed284d145"
   },
   "source": [
    "## Create a query function with filter"
   ]
  },
  {
   "cell_type": "code",
   "execution_count": null,
   "metadata": {
    "id": "b2b73849-d569-480a-98c2-ac084784a5ca"
   },
   "outputs": [],
   "source": [
    "# Query function for Milvus using similarity search in combination with scalar search (access rights)\n",
    "\n",
    "def query_milvus_filter(query, num_results=3, user_access_rigths=None):\n",
    "    \n",
    "    # 1. Vectorize query text for similarity\n",
    "    query_embeddings = embedding.embed_documents(texts=[query])\n",
    "    \n",
    "    # 2. Search Parameters\n",
    "    search_params = {\n",
    "        \"metric_type\": \"L2\", \n",
    "        \"params\": {\"nprobe\": 5}\n",
    "    }\n",
    "\n",
    "    # 3. Build search expression for access rights\n",
    "    if user_access_rigths:\n",
    "        expr = \" or \".join([f'article_rights==\"{right}\"' for right in user_access_rigths])\n",
    "    else:\n",
    "        expr = \"\"\n",
    "    \n",
    "    # 4. Search collection\n",
    "    results = wiki_collection.search(\n",
    "        data=query_embeddings, \n",
    "        anns_field=\"vector\", \n",
    "        param=search_params,\n",
    "        limit=num_results,\n",
    "        output_fields=['article_text', 'article_rights'],\n",
    "        expr=expr                                           # <- scalar search expression \n",
    "    )\n",
    "    return results"
   ]
  },
  {
   "cell_type": "markdown",
   "metadata": {
    "id": "db4ec5bd-8a27-4d36-9260-41d73c5b9020"
   },
   "source": [
    "## Run a query with given access rights against Milvus"
   ]
  },
  {
   "cell_type": "code",
   "execution_count": null,
   "metadata": {
    "id": "a06fdcfc-431d-4d91-8146-88460b3e6fb9"
   },
   "outputs": [],
   "source": [
    "# set the number of chunks wanted in the answer\n",
    "num_results = 3\n",
    "\n",
    "# Access rights of user\n",
    "user_access_rights = ['climate']\n",
    "\n",
    "# Query against Milvus\n",
    "question_text = 'what are ways to cope with climate change?'\n",
    "\n",
    "# Execute query and receive chunks with details\n",
    "results = query_milvus_filter(question_text, num_results, user_access_rights)\n",
    "chunks = get_relevant_chunks(results, True)"
   ]
  },
  {
   "cell_type": "markdown",
   "metadata": {
    "id": "5724818a-02b5-47f3-8c73-86f90e56df99"
   },
   "source": [
    "# Third variant to implement access rights – partition the collection"
   ]
  },
  {
   "cell_type": "markdown",
   "metadata": {
    "id": "9b0fb317-742f-4282-b779-1953d1b35f7b"
   },
   "source": [
    "## Create a new collection with partitions"
   ]
  },
  {
   "cell_type": "code",
   "execution_count": null,
   "metadata": {
    "id": "c29f9768-debf-41c9-92f6-3f1c23ca03f4"
   },
   "outputs": [],
   "source": [
    "# new name for the collection with partitions\n",
    "collection_name_partitioned = collection_name + '_partitioned'\n",
    "\n",
    "# Create collection - define fields + schema\n",
    "\n",
    "fields = [\n",
    "    FieldSchema(name=\"id\", dtype=DataType.INT64, is_primary=True, auto_id=True),    # primary key\n",
    "    FieldSchema(name=\"article_text\", dtype=DataType.VARCHAR, max_length=8000,),     # a chunk of an article text\n",
    "    FieldSchema(name=\"article_title\", dtype=DataType.VARCHAR, max_length=200,),     # the title of the article where the chunk is originated\n",
    "    FieldSchema(name=\"article_rights\", dtype=DataType.VARCHAR, max_length=20,),     # the rights attached to the article\n",
    "    FieldSchema(name=\"vector\", dtype=DataType.FLOAT_VECTOR, dim=384),               # the embedding vector\n",
    "]\n",
    "\n",
    "schema = CollectionSchema(fields, \"wikipedia article collection schema\")\n",
    "\n",
    "wiki_collection_partitioned = Collection(collection_name_partitioned, schema)\n",
    "\n",
    "# Create index for Vector data\n",
    "\n",
    "index_params = {\n",
    "        'metric_type':'L2',\n",
    "        'index_type':\"IVF_FLAT\",\n",
    "        'params':{\"nlist\":10}\n",
    "}\n",
    "\n",
    "wiki_collection_partitioned.create_index(field_name=\"vector\", index_params=index_params)\n",
    "\n",
    "# Create partitions\n",
    "\n",
    "out=wiki_collection_partitioned.create_partition(\"climate\")\n",
    "out=wiki_collection_partitioned.create_partition(\"economics\")"
   ]
  },
  {
   "cell_type": "markdown",
   "metadata": {
    "id": "26639b6f-b2e3-417b-975a-004bc484baea"
   },
   "source": [
    "## Store data in Milvus partitions "
   ]
  },
  {
   "cell_type": "code",
   "execution_count": null,
   "metadata": {
    "id": "1dfab706-fd78-4d5e-91f5-ec9cd511cd95"
   },
   "outputs": [],
   "source": [
    "# Prepare data suitable for loading in partitions\n",
    "\n",
    "article_chunks_climate = [x for x, y in zip(article_chunks, article_rights) if y == 'climate']\n",
    "article_titles_climate = [x for x, y in zip(article_titles, article_rights) if y == 'climate']\n",
    "article_rights_climate = [x for x, y in zip(article_rights, article_rights) if y == 'climate']\n",
    "article_vectors_climate = [x for x, y in zip(article_vectors, article_rights) if y == 'climate']\n",
    "\n",
    "data_climate = [\n",
    "    article_chunks_climate,\n",
    "    article_titles_climate,\n",
    "    article_rights_climate,\n",
    "    article_vectors_climate\n",
    "]\n",
    "\n",
    "article_chunks_economics = [x for x, y in zip(article_chunks, article_rights) if y == 'economics']\n",
    "article_titles_economics = [x for x, y in zip(article_titles, article_rights) if y == 'economics']\n",
    "article_rights_economics = [x for x, y in zip(article_rights, article_rights) if y == 'economics']\n",
    "article_vectors_economics = [x for x, y in zip(article_vectors, article_rights) if y == 'economics']\n",
    "\n",
    "data_economics = [\n",
    "    article_chunks_economics,\n",
    "    article_titles_economics,\n",
    "    article_rights_economics,\n",
    "    article_vectors_economics\n",
    "]\n",
    "\n",
    "# Insert data into collection partitions\n",
    "\n",
    "wiki_collection_partitioned.insert(data_climate, partition_name=\"climate\")\n",
    "wiki_collection_partitioned.insert(data_economics, partition_name=\"economics\")\n",
    "wiki_collection_partitioned.flush() # Ensures data persistence\n",
    "\n",
    "# Load collection to allow queries\n",
    "\n",
    "wiki_collection_partitioned.load()\n",
    "\n",
    "# Get number of entities in collection and partitions\n",
    "\n",
    "print(\"Number of entities in collection: \", wiki_collection_partitioned.num_entities)\n",
    "print(\"Number of entities in partition 'climate': \", wiki_collection_partitioned.partition(partition_name=\"climate\").num_entities)\n",
    "print(\"Number of entities in partition 'economics': \", wiki_collection_partitioned.partition(partition_name=\"economics\").num_entities)"
   ]
  },
  {
   "cell_type": "markdown",
   "metadata": {
    "id": "5beea2b1-81bb-4118-bee7-59fc72346d30"
   },
   "source": [
    "## Prepare functions for Milvus queries with partitions"
   ]
  },
  {
   "cell_type": "code",
   "execution_count": null,
   "metadata": {
    "id": "c1cc460f-743f-4332-a059-6a531565e40b"
   },
   "outputs": [],
   "source": [
    "# Query function for Milvus using similarity search in combination with partitions (access rights)\n",
    "\n",
    "def query_milvus_partitions(query, num_results=3, partitions=None):\n",
    "    \n",
    "    # 1. Vectorize query text for similarity\n",
    "    query_embeddings = embedding.embed_documents(texts=[query])\n",
    "    \n",
    "    # 2. Search Parameters\n",
    "    search_params = {\n",
    "        \"metric_type\": \"L2\", \n",
    "        \"params\": {\"nprobe\": 5}\n",
    "    }\n",
    "\n",
    "    # 3. Search collection\n",
    "    results = wiki_collection_partitioned.search(\n",
    "        data=query_embeddings, \n",
    "        anns_field=\"vector\", \n",
    "        param=search_params,\n",
    "        limit=num_results,\n",
    "        output_fields=['article_text', 'article_rights'],\n",
    "        partition_names=partitions                          # <- restriction on partitions \n",
    "    )\n",
    "    return results"
   ]
  },
  {
   "cell_type": "markdown",
   "metadata": {
    "id": "0319b428-a13c-4ebd-af34-dae7698ebe4a"
   },
   "source": [
    "## Run a query with given access rights against Milvus (with partitions)"
   ]
  },
  {
   "cell_type": "code",
   "execution_count": null,
   "metadata": {
    "id": "e7fdf0a7-f2a6-4e6f-aafa-9c3c5f6b4527"
   },
   "outputs": [],
   "source": [
    "# set the number of chunks wanted in the answer\n",
    "num_results = 3\n",
    "\n",
    "# Access rights of user\n",
    "user_access_rights = ['climate']\n",
    "\n",
    "# Query against Milvus\n",
    "question_text = 'what are ways to cope with climate change?'\n",
    "\n",
    "# Execute query and receive chunks with details\n",
    "results = query_milvus_partitions(question_text, num_results, user_access_rights)\n",
    "chunks = get_relevant_chunks(results, True)"
   ]
  },
  {
   "cell_type": "markdown",
   "metadata": {
    "id": "c677bd30-9c61-4eee-921b-43be8f3ca439"
   },
   "source": [
    "# Prepare functions to create answers (with LLM)"
   ]
  },
  {
   "cell_type": "markdown",
   "metadata": {
    "id": "147a9a35-b345-45aa-b2c1-3ee0c016cce9"
   },
   "source": [
    "## Load LLM from watsonx.ai for answer generation"
   ]
  },
  {
   "cell_type": "code",
   "execution_count": null,
   "metadata": {
    "id": "d368a207-169f-487c-bf8d-a6e0a80ad49b"
   },
   "outputs": [],
   "source": [
    "def load_model(model_id):\n",
    "    #        model_id='meta-llama/llama-2-70b-chat'\n",
    "    #        model_id='mistralai/mixtral-8x7b-instruct-v01'\n",
    "\n",
    "    from ibm_watsonx_ai.foundation_models import Model\n",
    "    from ibm_watsonx_ai.metanames import GenTextParamsMetaNames as GenParams\n",
    "\n",
    "    creds = {\n",
    "        \"url\": ibm_cloud_url,\n",
    "        \"apikey\": api_key \n",
    "    }\n",
    "\n",
    "    # Model Parameters\n",
    "    params = {\n",
    "        GenParams.DECODING_METHOD: \"greedy\",\n",
    "        GenParams.MIN_NEW_TOKENS: 1,\n",
    "        GenParams.MAX_NEW_TOKENS: 500,\n",
    "        GenParams.TEMPERATURE: 0,\n",
    "    }\n",
    "\n",
    "    try:\n",
    "        model = Model(model_id=model_id, \n",
    "            params=params, credentials=creds, \n",
    "            project_id=project.project_context.projectID\n",
    "        )\n",
    "        print(f\"Model {model_id} loaded\")\n",
    "        return model\n",
    "    except Exception as e:\n",
    "        logger.error(f\"load_model> error loading model: {str(e)}\")\n",
    "        print(f\"load_model> error loading model: {str(e)}\")\n",
    "\n",
    "    return None\n",
    "\n",
    "model = load_model(model_id='ibm/granite-3-2-8b-instruct')"
   ]
  },
  {
   "cell_type": "markdown",
   "metadata": {
    "id": "64e8dcb5-97ab-428c-974f-1349df56c077"
   },
   "source": [
    "## Define a simple prompt for LLM"
   ]
  },
  {
   "cell_type": "code",
   "execution_count": null,
   "metadata": {
    "id": "010aac1c-dbb3-4373-b505-e9156afd7d06"
   },
   "outputs": [],
   "source": [
    "def ask_llm(prompt, model):\n",
    "    response = model.generate_text(prompt)\n",
    "    return response\n",
    "\n",
    "def set_prompt_template(new_template):\n",
    "    from string import Template\n",
    "\n",
    "    global prompt_template\n",
    "\n",
    "    if new_template == '':\n",
    "        prompt_template=Template(\"$context\\n\\nPlease answer a question using this text. \"\n",
    "          + \"If the question is unanswerable, say \\\"unanswerable\\\".\"\n",
    "          + \"\\n\\nQuestion: $question\")\n",
    "    else:\n",
    "        prompt_template=Template(new_template)\n",
    "\n",
    "    return(prompt_template)\n",
    "\n",
    "set_prompt_template('')\n",
    "\n",
    "def make_prompt(context, question):\n",
    "    context = \"\\n\\n\".join(context)\n",
    "    data={\"context\": context, \"question\": question}\n",
    "    prompt = prompt_template.substitute(data)\n",
    "    return prompt"
   ]
  },
  {
   "cell_type": "markdown",
   "metadata": {
    "id": "b028ee6a-405d-4a66-b6db-48210e2fc9eb"
   },
   "source": [
    "# Generate answer with context from Milvus search "
   ]
  },
  {
   "cell_type": "code",
   "execution_count": null,
   "metadata": {
    "id": "87ac8970-3a6b-49d5-875d-9fe3e1b9cd7c"
   },
   "outputs": [],
   "source": [
    "question_text = \"what roles does co2 play in global warming?\"\n",
    "#question_text = \"what are the drivers for a healthy economics?\"\n",
    "access_rights = [\"climate\", \"economics\"] # None # \"<your access rights>\"\n",
    "num_results = 3\n",
    "\n",
    "result = query_milvus_partitions(question_text, num_results, access_rights)\n",
    "prompt = make_prompt(get_relevant_chunks(result, True), question_text)\n",
    "\n",
    "response = ask_llm(prompt, model)\n",
    "print(response)"
   ]
  },
  {
   "cell_type": "markdown",
   "metadata": {
    "id": "256ffd18-3feb-4b73-b3ef-b430cd109b41"
   },
   "source": [
    "# Remove Collections in Milvus"
   ]
  },
  {
   "cell_type": "code",
   "execution_count": null,
   "metadata": {
    "id": "3da067e8-5006-4c9e-907b-66f4eb046b15"
   },
   "outputs": [],
   "source": [
    "wiki_collection.drop()\n",
    "wiki_collection_partitioned.drop()"
   ]
  },
  {
   "cell_type": "code",
   "execution_count": null,
   "metadata": {
    "id": "557dfd1a-2211-4423-9952-55256b93cd4e"
   },
   "outputs": [],
   "source": []
  }
 ],
 "metadata": {
  "kernelspec": {
   "display_name": "Python 3.11",
   "language": "python",
   "name": "python3"
  },
  "language_info": {
   "codemirror_mode": {
    "name": "ipython",
    "version": 3
   },
   "file_extension": ".py",
   "mimetype": "text/x-python",
   "name": "python",
   "nbconvert_exporter": "python",
   "pygments_lexer": "ipython3",
   "version": "3.11.9"
  }
 },
 "nbformat": 4,
 "nbformat_minor": 4
}
